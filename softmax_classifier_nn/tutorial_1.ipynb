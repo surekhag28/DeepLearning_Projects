{
 "cells": [
  {
   "cell_type": "markdown",
   "metadata": {
    "collapsed": true
   },
   "source": [
    "# Lab 1: Linear Classifier, Softmax Function, Loss Function, & Stochastic Gradient Descent\n",
    "The goal of this lab is to help you understand basic components of neural networks and convolutional neural networks by introducing linear classifier, softmax function, cross-entropy loss function, and stochastic gradient descent. If you do not understand some of the concepts, please refer to the background notes in Wattle.\n",
    "\n",
    "Another aim of this lab is to get familiar with using Python and NumPy, such as basic matrix manipulation in NumPy. This will be helpful later on when we start using PyTorch deep learning framework, which is essentially the same as NumPy. \n"
   ]
  },
  {
   "cell_type": "code",
   "execution_count": 14,
   "metadata": {},
   "outputs": [
    {
     "name": "stdout",
     "output_type": "stream",
     "text": [
      "The autoreload extension is already loaded. To reload it, use:\n",
      "  %reload_ext autoreload\n"
     ]
    }
   ],
   "source": [
    "from __future__ import print_function\n",
    "\n",
    "import random\n",
    "import numpy as np\n",
    "import matplotlib.pyplot as plt\n",
    "import pdb\n",
    "\n",
    "%matplotlib inline\n",
    "plt.rcParams['figure.figsize'] = (10.0, 8.0) # set default size of plots\n",
    "plt.rcParams['image.interpolation'] = 'nearest'\n",
    "plt.rcParams['image.cmap'] = 'gray'\n",
    "\n",
    "# for auto-reloading extenrnal modules\n",
    "# see http://stackoverflow.com/questions/1907993/autoreload-of-modules-in-ipython\n",
    "%load_ext autoreload\n",
    "%autoreload 2"
   ]
  },
  {
   "cell_type": "markdown",
   "metadata": {},
   "source": [
    "## Load MNIST Data"
   ]
  },
  {
   "cell_type": "code",
   "execution_count": 15,
   "metadata": {},
   "outputs": [
    {
     "name": "stdout",
     "output_type": "stream",
     "text": [
      "Downloading train-images-idx3-ubyte.gz...\n",
      "Downloading t10k-images-idx3-ubyte.gz...\n",
      "Downloading train-labels-idx1-ubyte.gz...\n",
      "Downloading t10k-labels-idx1-ubyte.gz...\n",
      "Download complete.\n",
      "Save complete.\n"
     ]
    }
   ],
   "source": [
    "### Load MNIST data ###\n",
    "import mnist\n",
    "mnist.init() # Only need to run once, can be commented out after first run\n",
    "X_train, y_train, X_test, y_test = mnist.load()"
   ]
  },
  {
   "cell_type": "code",
   "execution_count": 16,
   "metadata": {},
   "outputs": [],
   "source": [
    "### Preprocess data ###\n",
    "num_training = 59000\n",
    "num_validation = 1000\n",
    "num_dev = 500\n",
    "num_test = 1000\n",
    "\n",
    "# subsample the data\n",
    "# Validation set\n",
    "mask = list(range(num_training, num_training + num_validation))\n",
    "X_val = X_train[mask]\n",
    "y_val = y_train[mask]\n",
    "# Training set\n",
    "mask = list(range(num_training))\n",
    "X_train = X_train[mask]\n",
    "y_train = y_train[mask]\n",
    "# Subsample of test set\n",
    "mask = list(range(num_test))\n",
    "X_test = X_test[mask]\n",
    "y_test = y_test[mask]\n",
    "# Create a small development set (subsample of training set)\n",
    "mask = np.random.choice(num_training, num_dev, replace=False)\n",
    "X_dev = X_train[mask]\n",
    "y_dev = y_train[mask]\n",
    "\n",
    "# Normalize image\n",
    "X_train = X_train / 255\n",
    "X_val = X_val / 255\n",
    "X_test = X_test / 255\n",
    "X_dev = X_dev / 255\n",
    "mean_image = np.mean(X_train, axis = 0)\n",
    "X_train = X_train - mean_image\n",
    "X_val = X_val - mean_image\n",
    "X_test = X_test - mean_image\n",
    "X_dev = X_dev - mean_image"
   ]
  },
  {
   "cell_type": "markdown",
   "metadata": {},
   "source": [
    "## Open the file softmax.py and implement the softmax_loss function. \n"
   ]
  },
  {
   "cell_type": "code",
   "execution_count": 17,
   "metadata": {},
   "outputs": [
    {
     "name": "stdout",
     "output_type": "stream",
     "text": [
      "loss: 2.302584\n",
      "sanity check: 2.302585\n"
     ]
    }
   ],
   "source": [
    "from softmax import softmax_loss\n",
    "\n",
    "# Generate a random softmax weight matrix and use it to compute the loss\n",
    "W = np.random.randn(784, 10) * 1e-4\n",
    "b = np.random.randn(10) * 1e-4\n",
    "loss, grad_W, grad_b = softmax_loss(W, b, X_dev, y_dev, 0.0)\n",
    "\n",
    "# As a rough sanity check, loss should be close to -log(0.1)\n",
    "print('loss: {:f}'.format(loss))\n",
    "print('sanity check: {:f}'.format(-np.log(0.1)))\n"
   ]
  },
  {
   "cell_type": "markdown",
   "metadata": {},
   "source": [
    "## Inline Question 1:\n",
    "Why do we expect our loss to be close to -log(0.1)? Explain briefly. Think about how we define the loss function. \n",
    "\n",
    "**Your answer:** \n",
    "\n",
    "Total classes are 10 where their correct labels (actual labels) are 1, so if we sum up all these then it comes to 10.\n",
    "Now the probability of correctly predicting class is 1/10, then loss(negative likelihood) would become -log(1/10) i.e -log(0.1)"
   ]
  },
  {
   "cell_type": "markdown",
   "metadata": {},
   "source": [
    "**Run gradient check function**"
   ]
  },
  {
   "cell_type": "code",
   "execution_count": 18,
   "metadata": {},
   "outputs": [],
   "source": [
    "# gradient check function\n",
    "def grad_check(f, x, analytic_grad, num_checks=10, h=1e-5):\n",
    "  \"\"\"\n",
    "  sample a few random elements and only return numerical\n",
    "  in this dimensions.\n",
    "  \"\"\"\n",
    "\n",
    "  for i in range(num_checks):\n",
    "    ix = tuple([random.randrange(m) for m in x.shape])\n",
    "\n",
    "    oldval = x[ix]\n",
    "    x[ix] = oldval + h # increment by h\n",
    "    fxph = f(x) # evaluate f(x + h)\n",
    "    x[ix] = oldval - h # increment by h\n",
    "    fxmh = f(x) # evaluate f(x - h)\n",
    "    x[ix] = oldval # reset\n",
    "\n",
    "    grad_numerical = (fxph - fxmh) / (2 * h)\n",
    "    grad_analytic = analytic_grad[ix]\n",
    "    rel_error = abs(grad_numerical - grad_analytic) / (abs(grad_numerical) + abs(grad_analytic))\n",
    "    print('numerical: %f analytic: %f, relative error: %e' % (grad_numerical, grad_analytic, rel_error))"
   ]
  },
  {
   "cell_type": "code",
   "execution_count": 19,
   "metadata": {},
   "outputs": [
    {
     "name": "stdout",
     "output_type": "stream",
     "text": [
      "numerical: 0.001059 analytic: 0.001059, relative error: 8.582224e-09\n",
      "numerical: 0.017823 analytic: 0.017823, relative error: 8.672215e-11\n",
      "numerical: 0.001036 analytic: 0.001036, relative error: 1.102398e-08\n",
      "numerical: 0.000000 analytic: 0.000000, relative error: 1.271704e-05\n",
      "numerical: 0.000914 analytic: 0.000914, relative error: 1.020178e-08\n",
      "numerical: -0.003677 analytic: -0.003677, relative error: 2.566872e-09\n",
      "numerical: -0.001262 analytic: -0.001262, relative error: 3.457559e-10\n",
      "numerical: 0.001832 analytic: 0.001832, relative error: 4.119852e-09\n",
      "numerical: 0.004410 analytic: 0.004410, relative error: 9.973308e-10\n",
      "numerical: 0.002340 analytic: 0.002340, relative error: 1.522517e-09\n",
      "numerical: 0.000000 analytic: 0.000000, relative error: 1.000000e+00\n",
      "numerical: 0.000000 analytic: 0.000000, relative error: 1.000000e+00\n",
      "numerical: 0.000000 analytic: 0.000000, relative error: 1.000000e+00\n",
      "numerical: 0.000000 analytic: 0.000000, relative error: 1.000000e+00\n",
      "numerical: 0.000000 analytic: 0.000000, relative error: 1.000000e+00\n"
     ]
    }
   ],
   "source": [
    "# Your analytical gradient should be close to numerical gradient, error less than 1e-5. \n",
    "f = lambda w: softmax_loss(w, b, X_dev, y_dev, 0.0)[0]\n",
    "grad_numerical_w = grad_check(f, W, grad_W, 5)\n",
    "f = lambda b: softmax_loss(W, b, X_dev, y_dev, 0.0)[0]\n",
    "#grad_numerical_b = grad_check(f, b, grad_b, 5)\n",
    "\n",
    "\n",
    "# similar to SVM case, do another gradient check with regularization\n",
    "loss, grad_W, grad_b = softmax_loss(W, b, X_dev, y_dev, 5e1)\n",
    "f = lambda w: softmax_loss(w, b, X_dev, y_dev, 5e1)[0]\n",
    "grad_numerical_W = grad_check(f, W, grad_W, 5)\n",
    "f = lambda b: softmax_loss(W, b, X_dev, y_dev, 5e1)[0]\n",
    "grad_numerical_b = grad_check(f, b, grad_b, 5)"
   ]
  },
  {
   "cell_type": "markdown",
   "metadata": {},
   "source": [
    "## Open the file linear_classifier.py and implement Stochastic Gradient Descent. Complete the function train and predict."
   ]
  },
  {
   "cell_type": "code",
   "execution_count": 20,
   "metadata": {
    "scrolled": false
   },
   "outputs": [
    {
     "name": "stdout",
     "output_type": "stream",
     "text": [
      "iteration 0 / 1500: loss 205.151990\n",
      "iteration 100 / 1500: loss 76.739844\n",
      "iteration 200 / 1500: loss 29.618058\n",
      "iteration 300 / 1500: loss 12.326123\n",
      "iteration 400 / 1500: loss 5.980805\n",
      "iteration 500 / 1500: loss 3.652298\n",
      "iteration 600 / 1500: loss 2.797870\n",
      "iteration 700 / 1500: loss 2.484311\n",
      "iteration 800 / 1500: loss 2.369278\n",
      "iteration 900 / 1500: loss 2.327048\n",
      "iteration 1000 / 1500: loss 2.311556\n",
      "iteration 1100 / 1500: loss 2.305870\n",
      "iteration 1200 / 1500: loss 2.303785\n",
      "iteration 1300 / 1500: loss 2.303018\n",
      "iteration 1400 / 1500: loss 2.302736\n"
     ]
    }
   ],
   "source": [
    "from linear_classifier import LinearClassifier\n",
    "classifier = LinearClassifier()\n",
    "loss_hist = classifier.train(X_train, y_train, learning_rate=1e-7, reg=5e4, num_iters=1500, verbose=True)"
   ]
  },
  {
   "cell_type": "code",
   "execution_count": 21,
   "metadata": {
    "scrolled": false
   },
   "outputs": [
    {
     "data": {
      "image/png": "[encoded data removed]",
      "text/plain": [
       "<Figure size 720x576 with 1 Axes>"
      ]
     },
     "metadata": {
      "needs_background": "light"
     },
     "output_type": "display_data"
    }
   ],
   "source": [
    "# Plot loss function as iteration number.\n",
    "plt.plot(loss_hist)\n",
    "plt.xlabel('Iteration number')\n",
    "plt.ylabel('Loss value')\n",
    "plt.show()"
   ]
  },
  {
   "cell_type": "code",
   "execution_count": 22,
   "metadata": {},
   "outputs": [
    {
     "name": "stdout",
     "output_type": "stream",
     "text": [
      "training accuracy: 0.675051\n",
      "validation accuracy: 0.738000\n"
     ]
    }
   ],
   "source": [
    "# Implement predict function and evaluate performance on training and validation set.\n",
    "y_train_pred = classifier.predict(X_train)\n",
    "print('training accuracy: {:f}'.format(np.mean(y_train == y_train_pred)))\n",
    "y_val_pred = classifier.predict(X_val)\n",
    "print('validation accuracy: {:f}'.format(np.mean(y_val == y_val_pred)))"
   ]
  },
  {
   "cell_type": "markdown",
   "metadata": {},
   "source": [
    "## Hyperparameter tuning. Find the best set of learning rate and regularization strength. "
   ]
  },
  {
   "cell_type": "code",
   "execution_count": 23,
   "metadata": {},
   "outputs": [
    {
     "name": "stdout",
     "output_type": "stream",
     "text": [
      "lr 1.000000e-07 reg 2.500000e+04 train accuracy: 0.118237 val accuracy: 0.143000\n",
      "lr 1.000000e-07 reg 2.812500e+04 train accuracy: 0.172712 val accuracy: 0.170000\n",
      "lr 1.000000e-07 reg 3.125000e+04 train accuracy: 0.258661 val accuracy: 0.310000\n",
      "lr 1.000000e-07 reg 3.437500e+04 train accuracy: 0.339712 val accuracy: 0.295000\n",
      "lr 1.000000e-07 reg 3.750000e+04 train accuracy: 0.374305 val accuracy: 0.414000\n",
      "lr 1.000000e-07 reg 4.062500e+04 train accuracy: 0.493203 val accuracy: 0.512000\n",
      "lr 1.000000e-07 reg 4.375000e+04 train accuracy: 0.569881 val accuracy: 0.627000\n",
      "lr 1.000000e-07 reg 4.687500e+04 train accuracy: 0.657373 val accuracy: 0.728000\n",
      "lr 2.333333e-07 reg 2.500000e+04 train accuracy: 0.723847 val accuracy: 0.816000\n",
      "lr 2.333333e-07 reg 2.812500e+04 train accuracy: 0.734508 val accuracy: 0.816000\n",
      "lr 2.333333e-07 reg 3.125000e+04 train accuracy: 0.725373 val accuracy: 0.810000\n",
      "lr 2.333333e-07 reg 3.437500e+04 train accuracy: 0.728356 val accuracy: 0.813000\n",
      "lr 2.333333e-07 reg 3.750000e+04 train accuracy: 0.730525 val accuracy: 0.816000\n",
      "lr 2.333333e-07 reg 4.062500e+04 train accuracy: 0.731949 val accuracy: 0.815000\n",
      "lr 2.333333e-07 reg 4.375000e+04 train accuracy: 0.726390 val accuracy: 0.810000\n",
      "lr 2.333333e-07 reg 4.687500e+04 train accuracy: 0.720508 val accuracy: 0.801000\n",
      "lr 3.666667e-07 reg 2.500000e+04 train accuracy: 0.726610 val accuracy: 0.808000\n",
      "lr 3.666667e-07 reg 2.812500e+04 train accuracy: 0.725644 val accuracy: 0.809000\n",
      "lr 3.666667e-07 reg 3.125000e+04 train accuracy: 0.733712 val accuracy: 0.815000\n",
      "lr 3.666667e-07 reg 3.437500e+04 train accuracy: 0.729729 val accuracy: 0.812000\n",
      "lr 3.666667e-07 reg 3.750000e+04 train accuracy: 0.727305 val accuracy: 0.813000\n",
      "lr 3.666667e-07 reg 4.062500e+04 train accuracy: 0.731746 val accuracy: 0.817000\n",
      "lr 3.666667e-07 reg 4.375000e+04 train accuracy: 0.732339 val accuracy: 0.818000\n",
      "lr 3.666667e-07 reg 4.687500e+04 train accuracy: 0.727085 val accuracy: 0.813000\n",
      "best validation accuracy achieved during cross-validation: 0.818000\n"
     ]
    }
   ],
   "source": [
    "# Use the validation set to tune hyperparameters (regularization strength and\n",
    "# learning rate). You should experiment with different ranges for the learning\n",
    "# rates and regularization strengths.\n",
    "results = {}\n",
    "best_val = -1\n",
    "worst_val = 1\n",
    "best_classifier = None # updated it from best_softmax to best_classifier since it was being used as best_classifier in all the below cells.\n",
    "worst_classifier = None\n",
    "learning_rates = [1e-7, 5e-7]\n",
    "regularization_strengths = [2.5e4, 5e4]\n",
    "\n",
    "################################################################################\n",
    "# TODO:                                                                        #\n",
    "# Use the validation set to set the learning rate and regularization strength. #\n",
    "#                                                                              #\n",
    "#                                                                              #\n",
    "################################################################################\n",
    "lr_num = 3\n",
    "rs_num = 8\n",
    "for i in range(lr_num):\n",
    "    for j in range(rs_num):\n",
    "        lr = learning_rates[0] + i * (learning_rates[1] - learning_rates[0]) / lr_num\n",
    "        reg_str = regularization_strengths[0] + j * (regularization_strengths[1] - regularization_strengths[0])/ rs_num\n",
    "        linearClassifier = LinearClassifier()\n",
    "        loss_hist = linearClassifier.train(X_train, y_train, learning_rate=lr, reg=reg_str,\n",
    "                              num_iters=1500, verbose=False)\n",
    "\n",
    "        y_train_pred = linearClassifier.predict(X_train)\n",
    "        acc_train = np.mean(y_train == y_train_pred)\n",
    "        y_val_pred = linearClassifier.predict(X_val)\n",
    "        acc_val = np.mean(y_val == y_val_pred)\n",
    "\n",
    "        results[(lr, reg_str)] = (acc_train, acc_val)\n",
    "\n",
    "        if acc_val > best_val:\n",
    "            best_val = acc_val\n",
    "            best_classifier = linearClassifier\n",
    "        \n",
    "        if acc_val < worst_val:\n",
    "            worst_val = acc_val\n",
    "            worst_classifier = linearClassifier\n",
    "        \n",
    "################################################################################\n",
    "#                              END OF YOUR CODE                                #\n",
    "################################################################################\n",
    "# Print out results.\n",
    "for lr, reg in sorted(results):\n",
    "    train_accuracy, val_accuracy = results[(lr, reg)]\n",
    "    print('lr %e reg %e train accuracy: %f val accuracy: %f' % (\n",
    "                lr, reg, train_accuracy, val_accuracy))\n",
    "    \n",
    "print('best validation accuracy achieved during cross-validation: %f' % best_val)"
   ]
  },
  {
   "cell_type": "code",
   "execution_count": 24,
   "metadata": {},
   "outputs": [
    {
     "name": "stdout",
     "output_type": "stream",
     "text": [
      "softmax on raw pixels final test set accuracy: 0.710000\n"
     ]
    }
   ],
   "source": [
    "# evaluate on test set\n",
    "# Evaluate the best softmax on test set\n",
    "y_test_pred = best_classifier.predict(X_test)\n",
    "test_accuracy = np.mean(y_test == y_test_pred)\n",
    "print('softmax on raw pixels final test set accuracy: {:f}'.format(test_accuracy, ))"
   ]
  },
  {
   "cell_type": "markdown",
   "metadata": {},
   "source": [
    "## Visualization"
   ]
  },
  {
   "cell_type": "code",
   "execution_count": 25,
   "metadata": {},
   "outputs": [
    {
     "data": {
      "image/png": "[encoded data removed]",
      "text/plain": [
       "<Figure size 720x576 with 10 Axes>"
      ]
     },
     "metadata": {
      "needs_background": "light"
     },
     "output_type": "display_data"
    }
   ],
   "source": [
    "# Visualize the learned weights for each class\n",
    "w = best_classifier.W#[:-1,:] # strip out the bias\n",
    "w = w.reshape(28, 28, 10)\n",
    "\n",
    "w_min, w_max = np.min(w), np.max(w)\n",
    "\n",
    "classes = ['0', '1', '2', '3', '4', '5', '6', '7', '8', '9']\n",
    "for i in range(10):\n",
    "    plt.subplot(2, 5, i + 1)\n",
    "    \n",
    "    # Rescale the weights to be between 0 and 255\n",
    "    wimg = 255.0 * (w[:, :, i].squeeze() - w_min) / (w_max - w_min)\n",
    "    plt.imshow(wimg.astype('uint8'))\n",
    "    plt.axis('off')\n",
    "    plt.title(classes[i])"
   ]
  },
  {
   "cell_type": "markdown",
   "metadata": {
    "collapsed": true
   },
   "source": [
    "## Inline Question 2:\n",
    "Visualize the learned weights. What did you find? What can you conclude about linear classifiers?\n",
    "\n",
    "**Your answer:** \n",
    "\n",
    "From the above plot we can see that classifier is able to learn the structure or features of images. These features are quite uncorrelated and have high variance. Moreover these images are quite blurred but at least it is able to recognize and learn the corresponding digits from images."
   ]
  },
  {
   "cell_type": "code",
   "execution_count": 26,
   "metadata": {},
   "outputs": [
    {
     "data": {
      "image/png": "[encoded data removed]",
      "text/plain": [
       "<Figure size 720x576 with 10 Axes>"
      ]
     },
     "metadata": {
      "needs_background": "light"
     },
     "output_type": "display_data"
    }
   ],
   "source": [
    "# Visualize the learned weights for each class (worst case)\n",
    "w_ = worst_classifier.W #[:-1,:] # strip out the bias\n",
    "w_ = w_.T\n",
    "w_ = w_.reshape(28, 28, 10)\n",
    "\n",
    "w_min, w_max = np.min(w_), np.max(w_)\n",
    "\n",
    "classes = ['0', '1', '2', '3', '4', '5', '6', '7', '8', '9']\n",
    "plt.figure()\n",
    "for i in range(10):\n",
    "    plt.subplot(2, 5, i + 1)\n",
    "    \n",
    "    # Rescale the weights to be between 0 and 255\n",
    "    wimg = 255.0 * (w_[:, :, i].squeeze() - w_min) / (w_max - w_min)\n",
    "    plt.imshow(wimg.astype('uint8'))\n",
    "    plt.axis('off')\n",
    "    plt.title(classes[i])"
   ]
  },
  {
   "cell_type": "markdown",
   "metadata": {},
   "source": [
    "## Inline Question 3:\n",
    "Visualize the learned weights. How does it look different (or same) from the previous one? What can you conclude from it?\n",
    "\n",
    "**Your answer:** \n",
    "\n",
    "In this case the images are quite noisy, its completely different or opposite from the previous one (above plot). \n",
    "Here the learned weights or features are quite correlated due to which we are not able to see any kind of pattern.\n",
    "Such noisy patterns in the network can be due to insufficient training of the classifier or possibly due to very low regularization strength that may have cause overfitting."
   ]
  },
  {
   "cell_type": "code",
   "execution_count": null,
   "metadata": {},
   "outputs": [],
   "source": []
  }
 ],
 "metadata": {
  "kernelspec": {
   "display_name": "Python 3",
   "language": "python",
   "name": "python3"
  },
  "language_info": {
   "codemirror_mode": {
    "name": "ipython",
    "version": 3
   },
   "file_extension": ".py",
   "mimetype": "text/x-python",
   "name": "python",
   "nbconvert_exporter": "python",
   "pygments_lexer": "ipython3",
   "version": "3.7.3"
  }
 },
 "nbformat": 4,
 "nbformat_minor": 2
}
